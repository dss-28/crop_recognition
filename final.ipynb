{
 "cells": [
  {
   "cell_type": "code",
   "execution_count": 71,
   "id": "bd16a697-ca5c-476b-adac-edaf12c1e2df",
   "metadata": {},
   "outputs": [],
   "source": [
    "import pandas as pd\n",
    "import numpy as np \n",
    "import cv2"
   ]
  },
  {
   "cell_type": "code",
   "execution_count": 72,
   "id": "bbfc65a1-4290-4708-aa81-86f780f2d73c",
   "metadata": {},
   "outputs": [
    {
     "data": {
      "text/html": [
       "<div>\n",
       "<style scoped>\n",
       "    .dataframe tbody tr th:only-of-type {\n",
       "        vertical-align: middle;\n",
       "    }\n",
       "\n",
       "    .dataframe tbody tr th {\n",
       "        vertical-align: top;\n",
       "    }\n",
       "\n",
       "    .dataframe thead th {\n",
       "        text-align: right;\n",
       "    }\n",
       "</style>\n",
       "<table border=\"1\" class=\"dataframe\">\n",
       "  <thead>\n",
       "    <tr style=\"text-align: right;\">\n",
       "      <th></th>\n",
       "      <th>Unnamed: 0</th>\n",
       "      <th>path</th>\n",
       "      <th>crop</th>\n",
       "      <th>croplabel</th>\n",
       "      <th>path1</th>\n",
       "    </tr>\n",
       "  </thead>\n",
       "  <tbody>\n",
       "    <tr>\n",
       "      <th>226</th>\n",
       "      <td>226</td>\n",
       "      <td>/kaggle/input/kag2/wheat/wheat025ahs.jpeg</td>\n",
       "      <td>wheat</td>\n",
       "      <td>4</td>\n",
       "      <td>kaggle/input/kag2/wheat/wheat025ahs.jpeg</td>\n",
       "    </tr>\n",
       "    <tr>\n",
       "      <th>144</th>\n",
       "      <td>144</td>\n",
       "      <td>/kaggle/input/kag2/sugarcane/sugarcane015a.jpeg</td>\n",
       "      <td>sugarcane</td>\n",
       "      <td>3</td>\n",
       "      <td>kaggle/input/kag2/sugarcane/sugarcane015a.jpeg</td>\n",
       "    </tr>\n",
       "    <tr>\n",
       "      <th>170</th>\n",
       "      <td>170</td>\n",
       "      <td>/kaggle/input/kag2/wheat/wheat037a.jpeg</td>\n",
       "      <td>wheat</td>\n",
       "      <td>4</td>\n",
       "      <td>kaggle/input/kag2/wheat/wheat037a.jpeg</td>\n",
       "    </tr>\n",
       "    <tr>\n",
       "      <th>450</th>\n",
       "      <td>450</td>\n",
       "      <td>/kaggle/input/kag2/jute/jute006ahs.jpeg</td>\n",
       "      <td>jute</td>\n",
       "      <td>0</td>\n",
       "      <td>kaggle/input/kag2/jute/jute006ahs.jpeg</td>\n",
       "    </tr>\n",
       "    <tr>\n",
       "      <th>821</th>\n",
       "      <td>821</td>\n",
       "      <td>/kaggle/input/crop_images/sugarcane/sugarcane0...</td>\n",
       "      <td>sugarcane</td>\n",
       "      <td>3</td>\n",
       "      <td>kaggle/input/crop_images/sugarcane/sugarcane00...</td>\n",
       "    </tr>\n",
       "    <tr>\n",
       "      <th>161</th>\n",
       "      <td>161</td>\n",
       "      <td>/kaggle/input/kag2/wheat/wheat004a.jpeg</td>\n",
       "      <td>wheat</td>\n",
       "      <td>4</td>\n",
       "      <td>kaggle/input/kag2/wheat/wheat004a.jpeg</td>\n",
       "    </tr>\n",
       "    <tr>\n",
       "      <th>405</th>\n",
       "      <td>405</td>\n",
       "      <td>/kaggle/input/kag2/jute/jute014arot.jpeg</td>\n",
       "      <td>jute</td>\n",
       "      <td>0</td>\n",
       "      <td>kaggle/input/kag2/jute/jute014arot.jpeg</td>\n",
       "    </tr>\n",
       "    <tr>\n",
       "      <th>299</th>\n",
       "      <td>299</td>\n",
       "      <td>/kaggle/input/kag2/wheat/wheat016arot.jpeg</td>\n",
       "      <td>wheat</td>\n",
       "      <td>4</td>\n",
       "      <td>kaggle/input/kag2/wheat/wheat016arot.jpeg</td>\n",
       "    </tr>\n",
       "    <tr>\n",
       "      <th>402</th>\n",
       "      <td>402</td>\n",
       "      <td>/kaggle/input/kag2/jute/jute013ahf.jpeg</td>\n",
       "      <td>jute</td>\n",
       "      <td>0</td>\n",
       "      <td>kaggle/input/kag2/jute/jute013ahf.jpeg</td>\n",
       "    </tr>\n",
       "    <tr>\n",
       "      <th>296</th>\n",
       "      <td>296</td>\n",
       "      <td>/kaggle/input/kag2/wheat/wheat024arot.jpeg</td>\n",
       "      <td>wheat</td>\n",
       "      <td>4</td>\n",
       "      <td>kaggle/input/kag2/wheat/wheat024arot.jpeg</td>\n",
       "    </tr>\n",
       "  </tbody>\n",
       "</table>\n",
       "</div>"
      ],
      "text/plain": [
       "     Unnamed: 0                                               path       crop  \\\n",
       "226         226          /kaggle/input/kag2/wheat/wheat025ahs.jpeg      wheat   \n",
       "144         144    /kaggle/input/kag2/sugarcane/sugarcane015a.jpeg  sugarcane   \n",
       "170         170            /kaggle/input/kag2/wheat/wheat037a.jpeg      wheat   \n",
       "450         450            /kaggle/input/kag2/jute/jute006ahs.jpeg       jute   \n",
       "821         821  /kaggle/input/crop_images/sugarcane/sugarcane0...  sugarcane   \n",
       "161         161            /kaggle/input/kag2/wheat/wheat004a.jpeg      wheat   \n",
       "405         405           /kaggle/input/kag2/jute/jute014arot.jpeg       jute   \n",
       "299         299         /kaggle/input/kag2/wheat/wheat016arot.jpeg      wheat   \n",
       "402         402            /kaggle/input/kag2/jute/jute013ahf.jpeg       jute   \n",
       "296         296         /kaggle/input/kag2/wheat/wheat024arot.jpeg      wheat   \n",
       "\n",
       "     croplabel                                              path1  \n",
       "226          4           kaggle/input/kag2/wheat/wheat025ahs.jpeg  \n",
       "144          3     kaggle/input/kag2/sugarcane/sugarcane015a.jpeg  \n",
       "170          4             kaggle/input/kag2/wheat/wheat037a.jpeg  \n",
       "450          0             kaggle/input/kag2/jute/jute006ahs.jpeg  \n",
       "821          3  kaggle/input/crop_images/sugarcane/sugarcane00...  \n",
       "161          4             kaggle/input/kag2/wheat/wheat004a.jpeg  \n",
       "405          0            kaggle/input/kag2/jute/jute014arot.jpeg  \n",
       "299          4          kaggle/input/kag2/wheat/wheat016arot.jpeg  \n",
       "402          0             kaggle/input/kag2/jute/jute013ahf.jpeg  \n",
       "296          4          kaggle/input/kag2/wheat/wheat024arot.jpeg  "
      ]
     },
     "execution_count": 72,
     "metadata": {},
     "output_type": "execute_result"
    }
   ],
   "source": [
    "df=pd.read_csv(\"Crop_details.csv\")\n",
    "test=df.sample(10)\n",
    "test"
   ]
  },
  {
   "cell_type": "code",
   "execution_count": 73,
   "id": "8396d13d-a97f-4ca9-a0f3-12fc2df3781d",
   "metadata": {},
   "outputs": [
    {
     "data": {
      "text/plain": [
       "(999, 224, 224, 3)"
      ]
     },
     "execution_count": 73,
     "metadata": {},
     "output_type": "execute_result"
    }
   ],
   "source": [
    "image_array_list=[]\n",
    "# img = cv2.imread(img_path)\n",
    "# print(img.shape)\n",
    "for img_path in df['path1']:\n",
    "    img = cv2.imread(img_path)\n",
    "    # print(img)\n",
    "    if img is not None:\n",
    "        # img = cv2.resize(img, (64, 64))\n",
    "        image_array_list.append(img)\n",
    "# img_path=\"kaggle/input/crop_images/jute/jute001a.jpeg\"\n",
    "# img1=cv2.imread(img_path)\n",
    "image_array = np.array(image_array_list)   #input cols\n",
    "image_array.shape"
   ]
  },
  {
   "cell_type": "code",
   "execution_count": 74,
   "id": "9f895293-6b60-45ae-836e-66380b652a30",
   "metadata": {},
   "outputs": [],
   "source": [
    "# image_array=color_hist_features\n",
    "# image_array=color_hist_features\n",
    "Y=df['croplabel']\n",
    "image_array.shape\n",
    "from sklearn.model_selection import train_test_split\n",
    "X_train_val, X_test, Y_train_val, Y_test =train_test_split(image_array,Y,random_state=42)\n",
    "X_train, X_val, Y_train, Y_val = train_test_split(X_train_val, Y_train_val,random_state=42)"
   ]
  },
  {
   "cell_type": "code",
   "execution_count": 75,
   "id": "e7adaae8-75d5-4803-8a5d-58275b4981f7",
   "metadata": {},
   "outputs": [],
   "source": [
    "# import cv2\n",
    "# import numpy as np\n",
    "\n",
    "# # Example for a single image (you can loop through your dataset)\n",
    "# color_hist_features = []\n",
    "# for img in image_array:\n",
    "#     # Split the image into color channels\n",
    "#     channels = cv2.split(img)\n",
    "\n",
    "#     #  if len(image.shape) == 2:  # If the image is grayscale (2D)\n",
    "#     #     image = cv2.cvtColor(image, cv2.COLOR_GRAY2RGB)  # Convert to 3-channel RGB\n",
    "#     # image_rgb = cv2.cvtColor(image, cv2.COLOR_BGR2RGB)\n",
    "#     # Compute histograms for each channel\n",
    "#     hist_r = cv2.calcHist([channels[0]], [0], None, [256], [0, 256])\n",
    "#     hist_g = cv2.calcHist([channels[1]], [0], None, [256], [0, 256])\n",
    "#     hist_b = cv2.calcHist([channels[2]], [0], None, [256], [0, 256])\n",
    "    \n",
    "#     # Flatten the histograms into a feature vector\n",
    "#     color_hist_features.append(np.concatenate([hist_r.flatten(), hist_g.flatten(), hist_b.flatten()]))\n",
    "\n",
    "# # Convert list to numpy array\n",
    "# color_hist_features = np.array(color_hist_features)\n",
    "\n",
    "# print(color_hist_features.shape)  # Shape will depend on the number of bins"
   ]
  },
  {
   "cell_type": "code",
   "execution_count": 76,
   "id": "184f7a80-d5d3-4fff-a81a-7c2b41175dc2",
   "metadata": {},
   "outputs": [],
   "source": [
    "import numpy as np\n",
    "import cv2  # OpenCV for image processing\n",
    "\n",
    "def extract_color_histogram(image, bins=(8, 8, 8)):\n",
    "    # Convert image to HSV\n",
    "    if image.dtype != np.uint8:\n",
    "        image = (image * 255).astype(np.uint8)  # or just image.astype(np.uint8) if already in 0–255\n",
    "\n",
    "    hsv = cv2.cvtColor(image, cv2.COLOR_RGB2HSV)\n",
    "    # Calculate the color histogram\n",
    "    hist = cv2.calcHist([hsv], [0, 1, 2], None, bins,\n",
    "                        [0, 180, 0, 256, 0, 256])\n",
    "    # Normalize and flatten\n",
    "    cv2.normalize(hist, hist)\n",
    "    return hist.flatten()"
   ]
  },
  {
   "cell_type": "code",
   "execution_count": 77,
   "id": "ef8773dd-0b83-4115-803f-dfc05ce988e8",
   "metadata": {},
   "outputs": [],
   "source": [
    "X_train = np.array([extract_color_histogram(img) for img in X_train])\n",
    "X_val = np.array([extract_color_histogram(img) for img in X_val])\n",
    "X_test = np.array([extract_color_histogram(img) for img in X_test])\n",
    "# X_train.shape"
   ]
  },
  {
   "cell_type": "code",
   "execution_count": 78,
   "id": "f7c48b83-0a98-4f16-8841-0d77e63cd1a2",
   "metadata": {},
   "outputs": [
    {
     "data": {
      "text/plain": [
       "(561, 512)"
      ]
     },
     "execution_count": 78,
     "metadata": {},
     "output_type": "execute_result"
    }
   ],
   "source": [
    "# from sklearn.decomposition import PCA\n",
    "# pca = PCA(n_components=0.95)  # keep 95% variance, or set n_components=number like 50\n",
    "# X_train = pca.fit_transform(X_train)\n",
    "\n",
    "# # Use the same fitted PCA to transform validation and test\n",
    "# X_val = pca.transform(X_val)\n",
    "# X_test= pca.transform(X_test)\n",
    "X_train.shape"
   ]
  },
  {
   "cell_type": "code",
   "execution_count": 79,
   "id": "1039ea7c-90d3-4e1d-bae7-bd7d2a2d3601",
   "metadata": {},
   "outputs": [],
   "source": [
    "# hog_features=pca1.fit_transform(hog_features)\n",
    "# color_hist_features=pca2.fit_transform(color_hist_features)\n",
    "# Xtest=pca.transform(X_test)\n",
    "# Xtrain.shape\n",
    "# X_train.shape"
   ]
  },
  {
   "cell_type": "code",
   "execution_count": 80,
   "id": "74106c58-4e1c-4bf0-ae99-08b5a7cb1d0e",
   "metadata": {},
   "outputs": [],
   "source": [
    "# pca2.explained_variance_ratio_\n",
    "# cumulative_variance = np.cumsum(pca2.explained_variance_ratio_)\n",
    "# cumulative_variance"
   ]
  },
  {
   "cell_type": "code",
   "execution_count": 81,
   "id": "60669d3d-55a2-4e51-91af-70daf0a3ad1d",
   "metadata": {},
   "outputs": [],
   "source": [
    "# image_array=np.hstack((lbp_features,color_hist_features,fourier_features,haralick_features,hog_features))\n",
    "# image_array=np.hstack((lbp_features,color_hist_features))\n"
   ]
  },
  {
   "cell_type": "code",
   "execution_count": 82,
   "id": "60687a00-2ced-4279-9de2-179287f20e7d",
   "metadata": {},
   "outputs": [],
   "source": [
    "from sklearn.preprocessing import StandardScaler\n",
    "scaler=StandardScaler()"
   ]
  },
  {
   "cell_type": "code",
   "execution_count": 83,
   "id": "f5fa5ebd-7c4c-4c2b-ad85-2326d6b66cc9",
   "metadata": {},
   "outputs": [],
   "source": [
    "X_train=scaler.fit_transform(X_train)\n",
    "X_val=scaler.transform(X_val)\n",
    "X_test=scaler.transform(X_test)"
   ]
  },
  {
   "cell_type": "code",
   "execution_count": 84,
   "id": "f7dfa50d-7692-45c8-9fd9-d0728bc93efd",
   "metadata": {},
   "outputs": [],
   "source": [
    "from sklearn.tree import DecisionTreeClassifier\n",
    "clf1=DecisionTreeClassifier(max_depth=15,criterion='gini')\n",
    "dt=clf1"
   ]
  },
  {
   "cell_type": "code",
   "execution_count": 85,
   "id": "e161b289-b5fc-488d-bb08-634cda8a4f80",
   "metadata": {},
   "outputs": [
    {
     "name": "stdout",
     "output_type": "stream",
     "text": [
      "0.138136625289917\n",
      "0.005757570266723633\n",
      "0.96\n",
      "[[52  0  1  0  0]\n",
      " [ 0 50  1  2  1]\n",
      " [ 0  2 36  0  2]\n",
      " [ 0  0  0 52  0]\n",
      " [ 0  0  0  1 50]]\n"
     ]
    }
   ],
   "source": [
    "import time\n",
    "timestart=time.time()\n",
    "\n",
    "clf1.fit(X_train,Y_train)\n",
    "timeend=time.time()\n",
    "print(timeend-timestart)\n",
    "Y_pred=clf1.predict(X_test)\n",
    "timeend2=time.time()\n",
    "print(timeend2-timeend)\n",
    "from sklearn.metrics import accuracy_score,precision_score,recall_score,f1_score,confusion_matrix\n",
    "print(accuracy_score(Y_test,Y_pred))\n",
    "print(confusion_matrix(Y_test,Y_pred))"
   ]
  },
  {
   "cell_type": "code",
   "execution_count": 86,
   "id": "5c2b2228-5bd9-4100-b344-22c65999eab8",
   "metadata": {},
   "outputs": [
    {
     "name": "stdout",
     "output_type": "stream",
     "text": [
      "0.9148936170212766\n",
      "1.0\n"
     ]
    }
   ],
   "source": [
    "Y_pred=clf1.predict(X_val)\n",
    "print(accuracy_score(Y_val,Y_pred))\n",
    "Y_pred=clf1.predict(X_train)\n",
    "print(accuracy_score(Y_train,Y_pred))"
   ]
  },
  {
   "cell_type": "code",
   "execution_count": 87,
   "id": "371b4739-f6ba-43d9-bf3f-19d954723fc6",
   "metadata": {},
   "outputs": [
    {
     "name": "stdout",
     "output_type": "stream",
     "text": [
      "0.005135297775268555\n",
      "0.1739344596862793\n"
     ]
    }
   ],
   "source": [
    "from sklearn.neighbors import KNeighborsClassifier\n",
    "clf1=KNeighborsClassifier()\n",
    "knn=clf1\n",
    "timestart=time.time()\n",
    "clf1.fit(X_train,Y_train)\n",
    "timeend=time.time()\n",
    "print(timeend-timestart)\n",
    "Y_pred=clf1.predict(X_test)\n",
    "timeend2=time.time()\n",
    "print(timeend2-timeend)"
   ]
  },
  {
   "cell_type": "code",
   "execution_count": 88,
   "id": "15345572-2d63-49e8-9c21-e2c2aca27fdf",
   "metadata": {},
   "outputs": [
    {
     "name": "stdout",
     "output_type": "stream",
     "text": [
      "0.776\n",
      "0.7287234042553191\n",
      "0.9144385026737968\n"
     ]
    }
   ],
   "source": [
    "print(accuracy_score(Y_test,Y_pred))\n",
    "Y_pred=clf1.predict(X_val)\n",
    "print(accuracy_score(Y_val,Y_pred))\n",
    "Y_pred=clf1.predict(X_train)\n",
    "print(accuracy_score(Y_train,Y_pred))"
   ]
  },
  {
   "cell_type": "code",
   "execution_count": 89,
   "id": "d6cc1576-7acb-4757-ac37-c4abe09ee48b",
   "metadata": {},
   "outputs": [],
   "source": [
    "from sklearn.linear_model import LogisticRegression\n",
    "clf1=LogisticRegression()\n",
    "logi=clf1"
   ]
  },
  {
   "cell_type": "code",
   "execution_count": 90,
   "id": "3175bd00-e351-452a-a731-ebf048f4eb5d",
   "metadata": {},
   "outputs": [
    {
     "name": "stdout",
     "output_type": "stream",
     "text": [
      "0.15274643898010254\n",
      "0.0010006427764892578\n",
      "0.984\n"
     ]
    }
   ],
   "source": [
    "timestart=time.time()\n",
    "clf1.fit(X_train,Y_train)\n",
    "timeend=time.time()\n",
    "print(timeend-timestart)\n",
    "Y_pred=clf1.predict(X_test)\n",
    "timeend2=time.time()\n",
    "print(timeend2-timeend)\n",
    "print(accuracy_score(Y_test,Y_pred))"
   ]
  },
  {
   "cell_type": "code",
   "execution_count": 91,
   "id": "09e1dbcb-fa82-4c94-b1fa-abd97586ccf1",
   "metadata": {},
   "outputs": [
    {
     "name": "stdout",
     "output_type": "stream",
     "text": [
      "0.973404255319149\n",
      "1.0\n"
     ]
    }
   ],
   "source": [
    "Y_pred=clf1.predict(X_val)\n",
    "print(accuracy_score(Y_val,Y_pred))\n",
    "Y_pred=clf1.predict(X_train)\n",
    "print(accuracy_score(Y_train,Y_pred))"
   ]
  },
  {
   "cell_type": "code",
   "execution_count": 92,
   "id": "7836007a-3780-4781-b31c-63435060c83e",
   "metadata": {},
   "outputs": [],
   "source": [
    "from sklearn.svm import SVC\n",
    "clf1=SVC(C=2.5)\n",
    "svm=clf1"
   ]
  },
  {
   "cell_type": "code",
   "execution_count": 93,
   "id": "e9dedb52-9a68-4ef0-a659-fe56858fa4f2",
   "metadata": {},
   "outputs": [
    {
     "name": "stdout",
     "output_type": "stream",
     "text": [
      "0.06672930717468262\n",
      "0.037514448165893555\n",
      "0.872\n"
     ]
    }
   ],
   "source": [
    "timestart=time.time()\n",
    "clf1.fit(X_train,Y_train)\n",
    "timeend=time.time()\n",
    "print(timeend-timestart)\n",
    "Y_pred=clf1.predict(X_test)\n",
    "timeend2=time.time()\n",
    "print(timeend2-timeend)\n",
    "# print(clf1.predict(image1_array))\n",
    "print(accuracy_score(Y_test,Y_pred))"
   ]
  },
  {
   "cell_type": "code",
   "execution_count": 94,
   "id": "2b1d9a34-0b1f-4267-a9fa-e93d3b3c938e",
   "metadata": {},
   "outputs": [
    {
     "name": "stdout",
     "output_type": "stream",
     "text": [
      "0.8776595744680851\n",
      "0.9393939393939394\n"
     ]
    }
   ],
   "source": [
    "Y_pred=clf1.predict(X_val)\n",
    "print(accuracy_score(Y_val,Y_pred))\n",
    "Y_pred=clf1.predict(X_train)\n",
    "print(accuracy_score(Y_train,Y_pred))"
   ]
  },
  {
   "cell_type": "code",
   "execution_count": 95,
   "id": "a8e28bb0-f97d-404c-8acf-72c510bdb037",
   "metadata": {},
   "outputs": [
    {
     "name": "stdout",
     "output_type": "stream",
     "text": [
      "0.010118961334228516\n",
      "0.005278825759887695\n",
      "0.632\n"
     ]
    }
   ],
   "source": [
    "from sklearn.naive_bayes import GaussianNB\n",
    "clf1=GaussianNB()\n",
    "nb=clf1\n",
    "timestart=time.time()\n",
    "clf1.fit(X_train,Y_train)\n",
    "timeend=time.time()\n",
    "print(timeend-timestart)\n",
    "Y_pred=clf1.predict(X_test)\n",
    "timeend2=time.time()\n",
    "print(timeend2-timeend)\n",
    "print(accuracy_score(Y_test,Y_pred))"
   ]
  },
  {
   "cell_type": "code",
   "execution_count": 96,
   "id": "3df53261-b300-46d5-8188-ebdb01a520dc",
   "metadata": {},
   "outputs": [
    {
     "name": "stdout",
     "output_type": "stream",
     "text": [
      "0.5851063829787234\n",
      "0.6381461675579323\n"
     ]
    }
   ],
   "source": [
    "Y_pred=clf1.predict(X_val)\n",
    "print(accuracy_score(Y_val,Y_pred))\n",
    "Y_pred=clf1.predict(X_train)\n",
    "print(accuracy_score(Y_train,Y_pred))"
   ]
  },
  {
   "cell_type": "code",
   "execution_count": 97,
   "id": "a8949009-f8bd-4d34-b801-02b1ef199782",
   "metadata": {},
   "outputs": [],
   "source": [
    "from sklearn.ensemble import VotingClassifier"
   ]
  },
  {
   "cell_type": "code",
   "execution_count": 98,
   "id": "34c84d40-462d-4496-9849-f872031f199b",
   "metadata": {},
   "outputs": [],
   "source": [
    "estimators=[('dt',dt),('svm',svm),('logi',logi),('knn',knn),('nb',nb)]"
   ]
  },
  {
   "cell_type": "code",
   "execution_count": 99,
   "id": "acf210a2-43d9-42b3-af7f-3b74d141fbb8",
   "metadata": {},
   "outputs": [
    {
     "name": "stdout",
     "output_type": "stream",
     "text": [
      "0.976\n",
      "0.9777726955085445\n",
      "0.9749002849002849\n",
      "0.9759929612870788\n"
     ]
    }
   ],
   "source": [
    "vt_clf1=VotingClassifier(estimators=estimators,weights=[1.5,1,1.5,0.5,0.5])\n",
    "vt_clf1.fit(X_train,Y_train)\n",
    "Y_pred=vt_clf1.predict(X_test)\n",
    "print(accuracy_score(Y_test,Y_pred))\n",
    "print(precision_score(Y_test,Y_pred,average='macro'))\n",
    "print(recall_score(Y_test,Y_pred,average='macro'))\n",
    "print(f1_score(Y_test,Y_pred,average='macro'))"
   ]
  },
  {
   "cell_type": "code",
   "execution_count": 100,
   "id": "a556ea38-998c-4f44-8a29-9fb0b464f6dc",
   "metadata": {},
   "outputs": [
    {
     "name": "stdout",
     "output_type": "stream",
     "text": [
      "0.9574468085106383\n",
      "0.9570401013714968\n",
      "0.9607850707850707\n",
      "0.9577831369906924\n"
     ]
    }
   ],
   "source": [
    "Y_pred=vt_clf1.predict(X_val)\n",
    "print(accuracy_score(Y_val,Y_pred))\n",
    "print(precision_score(Y_val,Y_pred,average='macro'))\n",
    "print(recall_score(Y_val,Y_pred,average='macro'))\n",
    "print(f1_score(Y_val,Y_pred,average='macro'))\n"
   ]
  },
  {
   "cell_type": "code",
   "execution_count": 101,
   "id": "01245d03-0d18-4892-9c24-2bb75cf961f7",
   "metadata": {},
   "outputs": [
    {
     "name": "stdout",
     "output_type": "stream",
     "text": [
      "1.0\n",
      "1.0\n",
      "1.0\n",
      "1.0\n"
     ]
    }
   ],
   "source": [
    "Y_pred=vt_clf1.predict(X_train)\n",
    "print(accuracy_score(Y_train,Y_pred))\n",
    "print(precision_score(Y_train,Y_pred,average='macro'))\n",
    "print(recall_score(Y_train,Y_pred,average='macro'))\n",
    "print(f1_score(Y_train,Y_pred,average='macro'))"
   ]
  },
  {
   "cell_type": "code",
   "execution_count": 102,
   "id": "cf8b7ffd-7b05-48e6-b3d9-1a63b17d3a0f",
   "metadata": {},
   "outputs": [
    {
     "name": "stdout",
     "output_type": "stream",
     "text": [
      "2.67899227142334\n",
      "0.0383296012878418\n",
      "0.992\n"
     ]
    }
   ],
   "source": [
    "from sklearn.ensemble import BaggingClassifier\n",
    "dt1=BaggingClassifier(n_estimators=50,max_samples=0.9,max_features=0.9)\n",
    "timestart=time.time()\n",
    "dt1.fit(X_train,Y_train)\n",
    "timeend=time.time()\n",
    "print(timeend-timestart)\n",
    "Y_pred=dt1.predict(X_test)\n",
    "timeend2=time.time()\n",
    "print(timeend2-timeend)\n",
    "print(accuracy_score(Y_test,Y_pred))"
   ]
  },
  {
   "cell_type": "code",
   "execution_count": 103,
   "id": "bc5e2ab6-4910-4414-a5c2-687a57d5166e",
   "metadata": {},
   "outputs": [
    {
     "name": "stdout",
     "output_type": "stream",
     "text": [
      "0.973404255319149\n",
      "1.0\n"
     ]
    }
   ],
   "source": [
    "Y_pred=dt1.predict(X_val)\n",
    "print(accuracy_score(Y_val,Y_pred))\n",
    "Y_pred=dt1.predict(X_train)\n",
    "print(accuracy_score(Y_train,Y_pred))"
   ]
  },
  {
   "cell_type": "code",
   "execution_count": 104,
   "id": "23650b6b-4d85-40c4-ac01-de4ec6aecf52",
   "metadata": {},
   "outputs": [
    {
     "name": "stdout",
     "output_type": "stream",
     "text": [
      "1.5740902423858643\n",
      "1.2292745113372803\n",
      "0.864\n"
     ]
    }
   ],
   "source": [
    "svm1=BaggingClassifier(estimator=SVC(C=2.5),n_estimators=50,max_samples=0.9,max_features=0.9)\n",
    "timestart=time.time()\n",
    "svm1.fit(X_train,Y_train)\n",
    "timeend=time.time()\n",
    "print(timeend-timestart)\n",
    "Y_pred=svm1.predict(X_test)\n",
    "timeend2=time.time()\n",
    "print(timeend2-timeend)\n",
    "print(accuracy_score(Y_test,Y_pred))"
   ]
  },
  {
   "cell_type": "code",
   "execution_count": 105,
   "id": "60cb808d-68e2-424b-99b0-448c5a9aed79",
   "metadata": {},
   "outputs": [
    {
     "name": "stdout",
     "output_type": "stream",
     "text": [
      "0.851063829787234\n",
      "0.928698752228164\n"
     ]
    }
   ],
   "source": [
    "Y_pred=svm1.predict(X_val)\n",
    "print(accuracy_score(Y_val,Y_pred))\n",
    "Y_pred=svm1.predict(X_train)\n",
    "print(accuracy_score(Y_train,Y_pred))"
   ]
  },
  {
   "cell_type": "code",
   "execution_count": 106,
   "id": "5daab5cc-ffac-4016-864f-d4671205cca2",
   "metadata": {},
   "outputs": [
    {
     "name": "stdout",
     "output_type": "stream",
     "text": [
      "4.031424522399902\n",
      "0.07168793678283691\n",
      "0.968\n"
     ]
    }
   ],
   "source": [
    "logi1=BaggingClassifier(estimator=LogisticRegression(),n_estimators=50,max_samples=0.9,max_features=0.9)\n",
    "timestart=time.time()\n",
    "logi1.fit(X_train,Y_train)\n",
    "timeend=time.time()\n",
    "print(timeend-timestart)\n",
    "Y_pred=logi1.predict(X_test)\n",
    "timeend2=time.time()\n",
    "print(timeend2-timeend)\n",
    "print(accuracy_score(Y_test,Y_pred))"
   ]
  },
  {
   "cell_type": "code",
   "execution_count": 107,
   "id": "c91e8838-4bfb-43d6-8fef-8287c7f41f2f",
   "metadata": {},
   "outputs": [
    {
     "name": "stdout",
     "output_type": "stream",
     "text": [
      "0.973404255319149\n",
      "0.9982174688057041\n"
     ]
    }
   ],
   "source": [
    "Y_pred=logi1.predict(X_val)\n",
    "print(accuracy_score(Y_val,Y_pred))\n",
    "Y_pred=logi1.predict(X_train)\n",
    "print(accuracy_score(Y_train,Y_pred))"
   ]
  },
  {
   "cell_type": "code",
   "execution_count": 108,
   "id": "f20ab205-01e4-4363-91ea-3ecb8828eb07",
   "metadata": {},
   "outputs": [],
   "source": [
    "from sklearn.ensemble import RandomForestClassifier\n",
    "rf1=RandomForestClassifier(n_estimators=50,max_samples=0.9,max_features=0.9,max_depth=15,criterion='gini')"
   ]
  },
  {
   "cell_type": "code",
   "execution_count": 109,
   "id": "577dacba-ee7d-4e49-bf8b-bfee83407a7f",
   "metadata": {},
   "outputs": [
    {
     "name": "stdout",
     "output_type": "stream",
     "text": [
      "3.3227946758270264\n",
      "0.005599498748779297\n",
      "0.988\n"
     ]
    }
   ],
   "source": [
    "timestart=time.time()\n",
    "rf1.fit(X_train,Y_train)\n",
    "timeend=time.time()\n",
    "print(timeend-timestart)\n",
    "Y_pred=rf1.predict(X_test)\n",
    "timeend2=time.time()\n",
    "print(timeend2-timeend)\n",
    "print(accuracy_score(Y_test,Y_pred))"
   ]
  },
  {
   "cell_type": "code",
   "execution_count": 110,
   "id": "f269a310-2b53-4ed6-aac4-f57cebf62b89",
   "metadata": {},
   "outputs": [
    {
     "name": "stdout",
     "output_type": "stream",
     "text": [
      "0.9680851063829787\n",
      "1.0\n"
     ]
    }
   ],
   "source": [
    "Y_pred=rf1.predict(X_val)\n",
    "print(accuracy_score(Y_val,Y_pred))\n",
    "Y_pred=rf1.predict(X_train)\n",
    "print(accuracy_score(Y_train,Y_pred))"
   ]
  },
  {
   "cell_type": "code",
   "execution_count": 111,
   "id": "18392e55-96fd-446b-b394-23176136e0c4",
   "metadata": {},
   "outputs": [
    {
     "name": "stderr",
     "output_type": "stream",
     "text": [
      "C:\\Users\\dss28\\AppData\\Local\\Programs\\Python\\Python312\\Lib\\site-packages\\sklearn\\ensemble\\_weight_boosting.py:527: FutureWarning: The SAMME.R algorithm (the default) is deprecated and will be removed in 1.6. Use the SAMME algorithm to circumvent this warning.\n",
      "  warnings.warn(\n"
     ]
    },
    {
     "name": "stdout",
     "output_type": "stream",
     "text": [
      "2.0610475540161133\n",
      "0.016803741455078125\n",
      "0.668\n"
     ]
    }
   ],
   "source": [
    "from sklearn.ensemble import AdaBoostClassifier\n",
    "ab1=AdaBoostClassifier(n_estimators=100,learning_rate=0.1)\n",
    "timestart=time.time()\n",
    "ab1.fit(X_train,Y_train)\n",
    "timeend=time.time()\n",
    "print(timeend-timestart)\n",
    "Y_pred=ab1.predict(X_test)\n",
    "timeend2=time.time()\n",
    "print(timeend2-timeend)\n",
    "print(accuracy_score(Y_test,Y_pred))"
   ]
  },
  {
   "cell_type": "code",
   "execution_count": 112,
   "id": "e7212830-4d39-4c09-be3d-1ab23536c6c8",
   "metadata": {},
   "outputs": [
    {
     "name": "stdout",
     "output_type": "stream",
     "text": [
      "0.6170212765957447\n",
      "0.7415329768270945\n"
     ]
    }
   ],
   "source": [
    "Y_pred=ab1.predict(X_val)\n",
    "print(accuracy_score(Y_val,Y_pred))\n",
    "Y_pred=ab1.predict(X_train)\n",
    "print(accuracy_score(Y_train,Y_pred))"
   ]
  },
  {
   "cell_type": "code",
   "execution_count": 113,
   "id": "39d7ea90-4d3f-45a7-80a4-d59482828c90",
   "metadata": {},
   "outputs": [
    {
     "name": "stdout",
     "output_type": "stream",
     "text": [
      "12.175121068954468\n",
      "0.020116329193115234\n",
      "0.984\n"
     ]
    }
   ],
   "source": [
    "from sklearn.ensemble import GradientBoostingClassifier\n",
    "gb1=GradientBoostingClassifier(n_estimators=100,subsample=0.9,max_features=0.9)\n",
    "timestart=time.time()\n",
    "gb1.fit(X_train,Y_train)\n",
    "timeend=time.time()\n",
    "print(timeend-timestart)\n",
    "Y_pred=gb1.predict(X_test)\n",
    "timeend2=time.time()\n",
    "print(timeend2-timeend)\n",
    "print(accuracy_score(Y_test,Y_pred))"
   ]
  },
  {
   "cell_type": "code",
   "execution_count": 114,
   "id": "e26bd517-5054-4c13-b4ab-a5c9cb96cbea",
   "metadata": {},
   "outputs": [
    {
     "name": "stdout",
     "output_type": "stream",
     "text": [
      "0.9680851063829787\n",
      "1.0\n"
     ]
    }
   ],
   "source": [
    "Y_pred=gb1.predict(X_val)\n",
    "print(accuracy_score(Y_val,Y_pred))\n",
    "Y_pred=gb1.predict(X_train)\n",
    "print(accuracy_score(Y_train,Y_pred))"
   ]
  },
  {
   "cell_type": "code",
   "execution_count": 115,
   "id": "c4b27066-e58c-4574-b1c5-3e8bfef7984d",
   "metadata": {},
   "outputs": [
    {
     "name": "stderr",
     "output_type": "stream",
     "text": [
      "C:\\Users\\dss28\\AppData\\Local\\Programs\\Python\\Python312\\Lib\\site-packages\\xgboost\\training.py:183: UserWarning: [18:47:31] WARNING: C:\\actions-runner\\_work\\xgboost\\xgboost\\src\\learner.cc:738: \n",
      "Parameters: { \"max_features\" } are not used.\n",
      "\n",
      "  bst.update(dtrain, iteration=i, fobj=obj)\n"
     ]
    },
    {
     "name": "stdout",
     "output_type": "stream",
     "text": [
      "2.0731587409973145\n",
      "0.005180835723876953\n",
      "0.984\n"
     ]
    }
   ],
   "source": [
    "from xgboost import XGBClassifier\n",
    "xb1=XGBClassifier(n_estimators=100,subsample=0.9,max_features=0.9)\n",
    "timestart=time.time()\n",
    "xb1.fit(X_train,Y_train)\n",
    "timeend=time.time()\n",
    "print(timeend-timestart)\n",
    "Y_pred=xb1.predict(X_test)\n",
    "timeend2=time.time()\n",
    "print(timeend2-timeend)\n",
    "print(accuracy_score(Y_test,Y_pred))"
   ]
  },
  {
   "cell_type": "code",
   "execution_count": 116,
   "id": "33c6ffae-ad20-4f5e-9f14-a9bd6831de69",
   "metadata": {},
   "outputs": [
    {
     "name": "stdout",
     "output_type": "stream",
     "text": [
      "0.9680851063829787\n",
      "1.0\n"
     ]
    }
   ],
   "source": [
    "Y_pred=xb1.predict(X_val)\n",
    "print(accuracy_score(Y_val,Y_pred))\n",
    "Y_pred=xb1.predict(X_train)\n",
    "print(accuracy_score(Y_train,Y_pred))"
   ]
  },
  {
   "cell_type": "code",
   "execution_count": 117,
   "id": "93482786-f4df-496c-acce-a1bce4dc800d",
   "metadata": {},
   "outputs": [],
   "source": [
    "# Y_pred=xb1.predict(X_train)\n",
    "# print(accuracy_score(Y_train,Y_test))"
   ]
  },
  {
   "cell_type": "code",
   "execution_count": 118,
   "id": "08d2b3d4-f4ab-4643-8261-927d21391fac",
   "metadata": {},
   "outputs": [],
   "source": [
    "estimators=[('dt1',dt1),('svm1',svm1),('logi1',logi1),('rf1',rf1),('ab1',ab1),('gb1',gb1),('xb1',xb1)]"
   ]
  },
  {
   "cell_type": "code",
   "execution_count": 119,
   "id": "97147b5a-0d84-471e-b0cc-071128e37625",
   "metadata": {},
   "outputs": [
    {
     "name": "stderr",
     "output_type": "stream",
     "text": [
      "C:\\Users\\dss28\\AppData\\Local\\Programs\\Python\\Python312\\Lib\\site-packages\\sklearn\\ensemble\\_weight_boosting.py:527: FutureWarning: The SAMME.R algorithm (the default) is deprecated and will be removed in 1.6. Use the SAMME algorithm to circumvent this warning.\n",
      "  warnings.warn(\n",
      "C:\\Users\\dss28\\AppData\\Local\\Programs\\Python\\Python312\\Lib\\site-packages\\xgboost\\training.py:183: UserWarning: [18:47:55] WARNING: C:\\actions-runner\\_work\\xgboost\\xgboost\\src\\learner.cc:738: \n",
      "Parameters: { \"max_features\" } are not used.\n",
      "\n",
      "  bst.update(dtrain, iteration=i, fobj=obj)\n"
     ]
    },
    {
     "name": "stdout",
     "output_type": "stream",
     "text": [
      "0.992\n",
      "0.9924528301886791\n",
      "0.9925925925925926\n",
      "0.9923802612481858\n"
     ]
    }
   ],
   "source": [
    "vt_clf2=VotingClassifier(estimators=estimators,weights=[1.5,1,1.5,1.5,0.5,1.5,1.5])\n",
    "vt_clf2.fit(X_train,Y_train)\n",
    "Y_pred=vt_clf2.predict(X_test)\n",
    "print(accuracy_score(Y_test,Y_pred))\n",
    "print(precision_score(Y_test,Y_pred,average='macro'))\n",
    "print(recall_score(Y_test,Y_pred,average='macro'))\n",
    "print(f1_score(Y_test,Y_pred,average='macro'))"
   ]
  },
  {
   "cell_type": "code",
   "execution_count": 120,
   "id": "75313a95-3d2e-4563-99e6-b6db31bde139",
   "metadata": {},
   "outputs": [
    {
     "name": "stdout",
     "output_type": "stream",
     "text": [
      "0.9840425531914894\n",
      "0.9860465116279069\n",
      "0.9857142857142858\n",
      "0.9853636769299421\n"
     ]
    }
   ],
   "source": [
    "Y_pred=vt_clf2.predict(X_val)\n",
    "print(accuracy_score(Y_val,Y_pred))\n",
    "print(precision_score(Y_val,Y_pred,average='macro'))\n",
    "print(recall_score(Y_val,Y_pred,average='macro'))\n",
    "print(f1_score(Y_val,Y_pred,average='macro'))\n"
   ]
  },
  {
   "cell_type": "code",
   "execution_count": 121,
   "id": "4b3f10bc-f0ac-4eb0-89dc-3cd9ef8060ff",
   "metadata": {},
   "outputs": [
    {
     "name": "stdout",
     "output_type": "stream",
     "text": [
      "1.0\n",
      "1.0\n",
      "1.0\n",
      "1.0\n"
     ]
    }
   ],
   "source": [
    "# recall_score,f1_score,confusion_matrix\n",
    "Y_pred=vt_clf2.predict(X_train)\n",
    "print(accuracy_score(Y_train,Y_pred))\n",
    "print(precision_score(Y_train,Y_pred,average='macro'))\n",
    "print(recall_score(Y_train,Y_pred,average='macro'))\n",
    "print(f1_score(Y_train,Y_pred,average='macro'))"
   ]
  },
  {
   "cell_type": "code",
   "execution_count": 122,
   "id": "c86e26b5-0f47-48d7-959c-711c35ff1129",
   "metadata": {},
   "outputs": [
    {
     "data": {
      "text/plain": [
       "(10, 224, 224, 3)"
      ]
     },
     "execution_count": 122,
     "metadata": {},
     "output_type": "execute_result"
    }
   ],
   "source": [
    "test_array_list=[]\n",
    "for test_path in test['path1']:\n",
    "    test = cv2.imread(test_path)\n",
    "    # print(img)\n",
    "    if test is not None:\n",
    "        # img = cv2.resize(img, (64, 64))\n",
    "        test_array_list.append(test)\n",
    "# img_path=\"kaggle/input/crop_images/jute/jute001a.jpeg\"\n",
    "# img1=cv2.imread(img_path)\n",
    "test_array = np.array(test_array_list)   #input cols\n",
    "test_array.shape"
   ]
  },
  {
   "cell_type": "code",
   "execution_count": 123,
   "id": "b0a8f5ee-7961-43a5-9ed3-92b6824b1f02",
   "metadata": {},
   "outputs": [
    {
     "data": {
      "text/plain": [
       "array([4, 3, 4, 0, 3, 4, 0, 4, 0, 4])"
      ]
     },
     "execution_count": 123,
     "metadata": {},
     "output_type": "execute_result"
    }
   ],
   "source": [
    "# test=X_test.sample(5)\n",
    "test_array=np.array([extract_color_histogram(img) for img in test_array])\n",
    "test_array=scaler.transform(test_array)\n",
    "vt_clf2.predict(test_array)"
   ]
  },
  {
   "cell_type": "code",
   "execution_count": 124,
   "id": "b37a7e70-9609-4310-9e51-34aa298b63a6",
   "metadata": {},
   "outputs": [
    {
     "data": {
      "text/html": [
       "<div>\n",
       "<style scoped>\n",
       "    .dataframe tbody tr th:only-of-type {\n",
       "        vertical-align: middle;\n",
       "    }\n",
       "\n",
       "    .dataframe tbody tr th {\n",
       "        vertical-align: top;\n",
       "    }\n",
       "\n",
       "    .dataframe thead th {\n",
       "        text-align: right;\n",
       "    }\n",
       "</style>\n",
       "<table border=\"1\" class=\"dataframe\">\n",
       "  <thead>\n",
       "    <tr style=\"text-align: right;\">\n",
       "      <th></th>\n",
       "      <th>Sr</th>\n",
       "      <th>crop</th>\n",
       "      <th>crop_lablel</th>\n",
       "      <th>path</th>\n",
       "    </tr>\n",
       "  </thead>\n",
       "  <tbody>\n",
       "    <tr>\n",
       "      <th>0</th>\n",
       "      <td>1</td>\n",
       "      <td>sugarcane</td>\n",
       "      <td>3</td>\n",
       "      <td>test_crop_image/sugarcane030a.jpeg</td>\n",
       "    </tr>\n",
       "    <tr>\n",
       "      <th>1</th>\n",
       "      <td>2</td>\n",
       "      <td>sugarcane</td>\n",
       "      <td>3</td>\n",
       "      <td>test_crop_image/sugarcane027a.jpeg</td>\n",
       "    </tr>\n",
       "    <tr>\n",
       "      <th>2</th>\n",
       "      <td>3</td>\n",
       "      <td>maize</td>\n",
       "      <td>1</td>\n",
       "      <td>test_crop_image/maize024ahf.jpeg</td>\n",
       "    </tr>\n",
       "    <tr>\n",
       "      <th>3</th>\n",
       "      <td>4</td>\n",
       "      <td>rice</td>\n",
       "      <td>2</td>\n",
       "      <td>test_crop_image/rice027a.jpeg</td>\n",
       "    </tr>\n",
       "    <tr>\n",
       "      <th>4</th>\n",
       "      <td>5</td>\n",
       "      <td>wheat</td>\n",
       "      <td>4</td>\n",
       "      <td>test_crop_image/wheat033a.jpeg</td>\n",
       "    </tr>\n",
       "    <tr>\n",
       "      <th>5</th>\n",
       "      <td>6</td>\n",
       "      <td>rice</td>\n",
       "      <td>2</td>\n",
       "      <td>test_crop_image/rice022ahf.jpeg</td>\n",
       "    </tr>\n",
       "    <tr>\n",
       "      <th>6</th>\n",
       "      <td>7</td>\n",
       "      <td>maize</td>\n",
       "      <td>1</td>\n",
       "      <td>test_crop_image/maize003a.jpeg</td>\n",
       "    </tr>\n",
       "    <tr>\n",
       "      <th>7</th>\n",
       "      <td>8</td>\n",
       "      <td>maize</td>\n",
       "      <td>1</td>\n",
       "      <td>test_crop_image/maize009arot.jpeg</td>\n",
       "    </tr>\n",
       "    <tr>\n",
       "      <th>8</th>\n",
       "      <td>9</td>\n",
       "      <td>wheat</td>\n",
       "      <td>4</td>\n",
       "      <td>test_crop_image/wheat016a.jpeg</td>\n",
       "    </tr>\n",
       "    <tr>\n",
       "      <th>9</th>\n",
       "      <td>10</td>\n",
       "      <td>sugarcane</td>\n",
       "      <td>3</td>\n",
       "      <td>test_crop_image/sugarcane034ahs.jpeg</td>\n",
       "    </tr>\n",
       "    <tr>\n",
       "      <th>10</th>\n",
       "      <td>11</td>\n",
       "      <td>jute</td>\n",
       "      <td>0</td>\n",
       "      <td>test_crop_image/juteleaves.jpg</td>\n",
       "    </tr>\n",
       "    <tr>\n",
       "      <th>11</th>\n",
       "      <td>12</td>\n",
       "      <td>rice</td>\n",
       "      <td>2</td>\n",
       "      <td>test_crop_image/rice-field01.jpg</td>\n",
       "    </tr>\n",
       "    <tr>\n",
       "      <th>12</th>\n",
       "      <td>13</td>\n",
       "      <td>jute</td>\n",
       "      <td>0</td>\n",
       "      <td>test_crop_image/jute003.jpg</td>\n",
       "    </tr>\n",
       "    <tr>\n",
       "      <th>13</th>\n",
       "      <td>14</td>\n",
       "      <td>maize</td>\n",
       "      <td>1</td>\n",
       "      <td>test_crop_image/maize000.jfif</td>\n",
       "    </tr>\n",
       "    <tr>\n",
       "      <th>14</th>\n",
       "      <td>15</td>\n",
       "      <td>jute</td>\n",
       "      <td>0</td>\n",
       "      <td>test_crop_image/jute-field.jpg</td>\n",
       "    </tr>\n",
       "    <tr>\n",
       "      <th>15</th>\n",
       "      <td>16</td>\n",
       "      <td>sugarcane</td>\n",
       "      <td>3</td>\n",
       "      <td>test_crop_image/sugarcane fields.jpg</td>\n",
       "    </tr>\n",
       "    <tr>\n",
       "      <th>16</th>\n",
       "      <td>17</td>\n",
       "      <td>jute</td>\n",
       "      <td>0</td>\n",
       "      <td>test_crop_image/juteimg.jpg</td>\n",
       "    </tr>\n",
       "    <tr>\n",
       "      <th>17</th>\n",
       "      <td>18</td>\n",
       "      <td>wheat</td>\n",
       "      <td>4</td>\n",
       "      <td>test_crop_image/wheat-field01.jpg</td>\n",
       "    </tr>\n",
       "    <tr>\n",
       "      <th>18</th>\n",
       "      <td>19</td>\n",
       "      <td>rice</td>\n",
       "      <td>2</td>\n",
       "      <td>test_crop_image/rice8122f869e3f.jpg</td>\n",
       "    </tr>\n",
       "    <tr>\n",
       "      <th>19</th>\n",
       "      <td>20</td>\n",
       "      <td>wheat</td>\n",
       "      <td>4</td>\n",
       "      <td>test_crop_image/wheat-crop.jpg</td>\n",
       "    </tr>\n",
       "  </tbody>\n",
       "</table>\n",
       "</div>"
      ],
      "text/plain": [
       "    Sr       crop  crop_lablel                                  path\n",
       "0    1  sugarcane            3    test_crop_image/sugarcane030a.jpeg\n",
       "1    2  sugarcane            3    test_crop_image/sugarcane027a.jpeg\n",
       "2    3      maize            1      test_crop_image/maize024ahf.jpeg\n",
       "3    4       rice            2         test_crop_image/rice027a.jpeg\n",
       "4    5      wheat            4        test_crop_image/wheat033a.jpeg\n",
       "5    6       rice            2       test_crop_image/rice022ahf.jpeg\n",
       "6    7      maize            1        test_crop_image/maize003a.jpeg\n",
       "7    8      maize            1     test_crop_image/maize009arot.jpeg\n",
       "8    9      wheat            4        test_crop_image/wheat016a.jpeg\n",
       "9   10  sugarcane            3  test_crop_image/sugarcane034ahs.jpeg\n",
       "10  11       jute            0        test_crop_image/juteleaves.jpg\n",
       "11  12       rice            2      test_crop_image/rice-field01.jpg\n",
       "12  13       jute            0           test_crop_image/jute003.jpg\n",
       "13  14      maize            1         test_crop_image/maize000.jfif\n",
       "14  15       jute            0        test_crop_image/jute-field.jpg\n",
       "15  16  sugarcane            3  test_crop_image/sugarcane fields.jpg\n",
       "16  17       jute            0           test_crop_image/juteimg.jpg\n",
       "17  18      wheat            4     test_crop_image/wheat-field01.jpg\n",
       "18  19       rice            2   test_crop_image/rice8122f869e3f.jpg\n",
       "19  20      wheat            4        test_crop_image/wheat-crop.jpg"
      ]
     },
     "execution_count": 124,
     "metadata": {},
     "output_type": "execute_result"
    }
   ],
   "source": [
    "test1=pd.read_csv(\"test.csv\")\n",
    "test1"
   ]
  },
  {
   "cell_type": "code",
   "execution_count": 125,
   "id": "a8d79a86-4717-487d-94ca-eea66743f542",
   "metadata": {},
   "outputs": [],
   "source": [
    "test1_array_list=[]\n",
    "for test1_path in test1['path']:\n",
    "    test1 = cv2.imread(test1_path)\n",
    "    # print(img)\n",
    "    if test1 is not None:\n",
    "        test1 = cv2.resize(test1, (224, 224))\n",
    "        test1_array_list.append(test1)\n",
    "test1_array = np.array(test1_array_list)"
   ]
  },
  {
   "cell_type": "code",
   "execution_count": 126,
   "id": "6d996cd7-e0cf-48c6-b2d2-7722886b967b",
   "metadata": {},
   "outputs": [],
   "source": [
    "test1_array=np.array([extract_color_histogram(img) for img in test1_array])"
   ]
  },
  {
   "cell_type": "code",
   "execution_count": 127,
   "id": "9638af2a-8c74-4e78-81d6-0b741db0fd9f",
   "metadata": {},
   "outputs": [
    {
     "data": {
      "text/plain": [
       "array([3, 3, 1, 2, 4, 2, 1, 1, 4, 3, 0, 2, 0, 0, 1, 1, 2, 2, 0, 4])"
      ]
     },
     "execution_count": 127,
     "metadata": {},
     "output_type": "execute_result"
    }
   ],
   "source": [
    "test1_array=scaler.transform(test1_array)\n",
    "vt_clf2.predict(test1_array)"
   ]
  },
  {
   "cell_type": "code",
   "execution_count": null,
   "id": "dce618f0-19d8-4a4a-8c7a-2737e796a2d8",
   "metadata": {},
   "outputs": [],
   "source": []
  }
 ],
 "metadata": {
  "kernelspec": {
   "display_name": "Python 3 (ipykernel)",
   "language": "python",
   "name": "python3"
  },
  "language_info": {
   "codemirror_mode": {
    "name": "ipython",
    "version": 3
   },
   "file_extension": ".py",
   "mimetype": "text/x-python",
   "name": "python",
   "nbconvert_exporter": "python",
   "pygments_lexer": "ipython3",
   "version": "3.12.2"
  }
 },
 "nbformat": 4,
 "nbformat_minor": 5
}
